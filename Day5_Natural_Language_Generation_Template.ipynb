{
 "cells": [
  {
   "cell_type": "code",
   "execution_count": 6,
   "id": "lataKYH3l-T1",
   "metadata": {
    "id": "lataKYH3l-T1"
   },
   "outputs": [
    {
     "name": "stdout",
     "output_type": "stream",
     "text": [
      "Collecting fpdf==1.7.2\n",
      "  Downloading fpdf-1.7.2.tar.gz (39 kB)\n",
      "  Preparing metadata (setup.py): started\n",
      "  Preparing metadata (setup.py): finished with status 'done'\n",
      "Building wheels for collected packages: fpdf\n",
      "  Building wheel for fpdf (setup.py): started\n",
      "  Building wheel for fpdf (setup.py): finished with status 'done'\n",
      "  Created wheel for fpdf: filename=fpdf-1.7.2-py2.py3-none-any.whl size=40713 sha256=431c8e9d4bdb0ebcb24dc274c28a3fba001c8a2f6b9fea0b52cceabed756014f\n",
      "  Stored in directory: c:\\users\\lrinc\\appdata\\local\\pip\\cache\\wheels\\6e\\62\\11\\dc73d78e40a218ad52e7451f30166e94491be013a7850b5d75\n",
      "Successfully built fpdf\n",
      "Installing collected packages: fpdf\n",
      "Successfully installed fpdf-1.7.2\n"
     ]
    }
   ],
   "source": [
    "# !pip install openai==0.28.1\n",
    "!pip install fpdf==1.7.2"
   ]
  },
  {
   "cell_type": "code",
   "execution_count": 7,
   "id": "48ef5895-994b-4287-be64-6bfc2d5cea03",
   "metadata": {
    "id": "48ef5895-994b-4287-be64-6bfc2d5cea03"
   },
   "outputs": [],
   "source": [
    "import pandas as pd\n",
    "import openai\n",
    "import time\n",
    "from fpdf import FPDF\n",
    "\n",
    "openai.api_key = ''"
   ]
  },
  {
   "cell_type": "markdown",
   "id": "71nyWCPo9mui",
   "metadata": {
    "id": "71nyWCPo9mui"
   },
   "source": [
    "## Load the dataset"
   ]
  },
  {
   "cell_type": "code",
   "execution_count": 10,
   "id": "iNEtAbnJma2J",
   "metadata": {
    "id": "iNEtAbnJma2J"
   },
   "outputs": [],
   "source": [
    "df = pd.read_csv('https://raw.githubusercontent.com/xlaw1x/Day-4-AI-First-Dataset-Live/refs/heads/main/Agrikonek%20AI.csv', encoding='latin1')"
   ]
  },
  {
   "cell_type": "code",
   "execution_count": 12,
   "id": "Ye6HoobRmc2k",
   "metadata": {
    "id": "Ye6HoobRmc2k",
    "scrolled": true
   },
   "outputs": [
    {
     "data": {
      "text/html": [
       "<div>\n",
       "<style scoped>\n",
       "    .dataframe tbody tr th:only-of-type {\n",
       "        vertical-align: middle;\n",
       "    }\n",
       "\n",
       "    .dataframe tbody tr th {\n",
       "        vertical-align: top;\n",
       "    }\n",
       "\n",
       "    .dataframe thead th {\n",
       "        text-align: right;\n",
       "    }\n",
       "</style>\n",
       "<table border=\"1\" class=\"dataframe\">\n",
       "  <thead>\n",
       "    <tr style=\"text-align: right;\">\n",
       "      <th></th>\n",
       "      <th>Shipment_ID</th>\n",
       "      <th>Farmer_Name</th>\n",
       "      <th>Product_Type</th>\n",
       "      <th>Weight_kg</th>\n",
       "      <th>Origin</th>\n",
       "      <th>Destination</th>\n",
       "      <th>Transport_Type</th>\n",
       "      <th>Temp_Control</th>\n",
       "      <th>Packaging_Type</th>\n",
       "      <th>Traffic_Condition</th>\n",
       "      <th>Season</th>\n",
       "      <th>Distance_km</th>\n",
       "      <th>Estimated_Transit_Hours</th>\n",
       "      <th>Cost_PHP</th>\n",
       "      <th>Notes</th>\n",
       "    </tr>\n",
       "  </thead>\n",
       "  <tbody>\n",
       "    <tr>\n",
       "      <th>16</th>\n",
       "      <td>S017</td>\n",
       "      <td>Juanito de la Cruz</td>\n",
       "      <td>Mais</td>\n",
       "      <td>220</td>\n",
       "      <td>Quezon Province</td>\n",
       "      <td>Manila</td>\n",
       "      <td>Open Air Truck</td>\n",
       "      <td>No</td>\n",
       "      <td>Burlap Bags</td>\n",
       "      <td>Moderate</td>\n",
       "      <td>Humid</td>\n",
       "      <td>130</td>\n",
       "      <td>4.5</td>\n",
       "      <td>2800</td>\n",
       "      <td>Needs breathable packaging, frequent airing</td>\n",
       "    </tr>\n",
       "    <tr>\n",
       "      <th>5</th>\n",
       "      <td>S006</td>\n",
       "      <td>Lito Bautista</td>\n",
       "      <td>Repolyo</td>\n",
       "      <td>250</td>\n",
       "      <td>Nueva Vizcaya</td>\n",
       "      <td>Caloocan City</td>\n",
       "      <td>Refrigerated Truck</td>\n",
       "      <td>Yes</td>\n",
       "      <td>Cardboard + Wrapping</td>\n",
       "      <td>Moderate</td>\n",
       "      <td>Wet Season</td>\n",
       "      <td>230</td>\n",
       "      <td>9.0</td>\n",
       "      <td>3800</td>\n",
       "      <td>Harvested early for freshness</td>\n",
       "    </tr>\n",
       "    <tr>\n",
       "      <th>13</th>\n",
       "      <td>S014</td>\n",
       "      <td>Mila Hernandez</td>\n",
       "      <td>Malunggay</td>\n",
       "      <td>20</td>\n",
       "      <td>Batangas</td>\n",
       "      <td>Makati City</td>\n",
       "      <td>Open Air Truck</td>\n",
       "      <td>No</td>\n",
       "      <td>Lightweight Bundles</td>\n",
       "      <td>Light</td>\n",
       "      <td>Hot</td>\n",
       "      <td>110</td>\n",
       "      <td>2.5</td>\n",
       "      <td>900</td>\n",
       "      <td>Delicate, prone to wilting</td>\n",
       "    </tr>\n",
       "    <tr>\n",
       "      <th>0</th>\n",
       "      <td>S001</td>\n",
       "      <td>Ramon Santos</td>\n",
       "      <td>Kamatis</td>\n",
       "      <td>150</td>\n",
       "      <td>Benguet</td>\n",
       "      <td>Metro Manila</td>\n",
       "      <td>Refrigerated Truck</td>\n",
       "      <td>Yes</td>\n",
       "      <td>Ventilated Crates</td>\n",
       "      <td>Heavy</td>\n",
       "      <td>Rainy</td>\n",
       "      <td>250</td>\n",
       "      <td>10.0</td>\n",
       "      <td>3500</td>\n",
       "      <td>Peak season for tomatoes</td>\n",
       "    </tr>\n",
       "    <tr>\n",
       "      <th>3</th>\n",
       "      <td>S004</td>\n",
       "      <td>Victor Flores</td>\n",
       "      <td>Bawang</td>\n",
       "      <td>100</td>\n",
       "      <td>Ilocos Norte</td>\n",
       "      <td>Pasig City</td>\n",
       "      <td>Open Air Truck</td>\n",
       "      <td>No</td>\n",
       "      <td>Mesh Bags</td>\n",
       "      <td>Heavy</td>\n",
       "      <td>Rainy</td>\n",
       "      <td>330</td>\n",
       "      <td>12.0</td>\n",
       "      <td>4000</td>\n",
       "      <td>Odor control needed</td>\n",
       "    </tr>\n",
       "  </tbody>\n",
       "</table>\n",
       "</div>"
      ],
      "text/plain": [
       "   Shipment_ID         Farmer_Name Product_Type  Weight_kg           Origin  \\\n",
       "16        S017  Juanito de la Cruz         Mais        220  Quezon Province   \n",
       "5         S006       Lito Bautista      Repolyo        250    Nueva Vizcaya   \n",
       "13        S014      Mila Hernandez    Malunggay         20         Batangas   \n",
       "0         S001        Ramon Santos      Kamatis        150          Benguet   \n",
       "3         S004       Victor Flores       Bawang        100     Ilocos Norte   \n",
       "\n",
       "      Destination      Transport_Type Temp_Control        Packaging_Type  \\\n",
       "16         Manila      Open Air Truck           No           Burlap Bags   \n",
       "5   Caloocan City  Refrigerated Truck          Yes  Cardboard + Wrapping   \n",
       "13    Makati City      Open Air Truck           No   Lightweight Bundles   \n",
       "0    Metro Manila  Refrigerated Truck          Yes     Ventilated Crates   \n",
       "3      Pasig City      Open Air Truck           No             Mesh Bags   \n",
       "\n",
       "   Traffic_Condition      Season  Distance_km  Estimated_Transit_Hours  \\\n",
       "16          Moderate       Humid          130                      4.5   \n",
       "5           Moderate  Wet Season          230                      9.0   \n",
       "13             Light         Hot          110                      2.5   \n",
       "0              Heavy       Rainy          250                     10.0   \n",
       "3              Heavy       Rainy          330                     12.0   \n",
       "\n",
       "    Cost_PHP                                        Notes  \n",
       "16      2800  Needs breathable packaging, frequent airing  \n",
       "5       3800                Harvested early for freshness  \n",
       "13       900                   Delicate, prone to wilting  \n",
       "0       3500                     Peak season for tomatoes  \n",
       "3       4000                          Odor control needed  "
      ]
     },
     "execution_count": 12,
     "metadata": {},
     "output_type": "execute_result"
    }
   ],
   "source": [
    "df.sample(5)"
   ]
  },
  {
   "cell_type": "code",
   "execution_count": 14,
   "id": "870447a2-919b-4c35-bfe1-dafe4ec6f1af",
   "metadata": {},
   "outputs": [
    {
     "name": "stdout",
     "output_type": "stream",
     "text": [
      "<class 'pandas.core.frame.DataFrame'>\n",
      "RangeIndex: 20 entries, 0 to 19\n",
      "Data columns (total 15 columns):\n",
      " #   Column                   Non-Null Count  Dtype  \n",
      "---  ------                   --------------  -----  \n",
      " 0   Shipment_ID              20 non-null     object \n",
      " 1   Farmer_Name              20 non-null     object \n",
      " 2   Product_Type             20 non-null     object \n",
      " 3   Weight_kg                20 non-null     int64  \n",
      " 4   Origin                   20 non-null     object \n",
      " 5   Destination              20 non-null     object \n",
      " 6   Transport_Type           20 non-null     object \n",
      " 7   Temp_Control             20 non-null     object \n",
      " 8   Packaging_Type           20 non-null     object \n",
      " 9   Traffic_Condition        20 non-null     object \n",
      " 10  Season                   20 non-null     object \n",
      " 11  Distance_km              20 non-null     int64  \n",
      " 12  Estimated_Transit_Hours  20 non-null     float64\n",
      " 13  Cost_PHP                 20 non-null     int64  \n",
      " 14  Notes                    20 non-null     object \n",
      "dtypes: float64(1), int64(3), object(11)\n",
      "memory usage: 2.5+ KB\n"
     ]
    }
   ],
   "source": [
    "df.info()"
   ]
  },
  {
   "cell_type": "markdown",
   "id": "QusTNnFu92Jx",
   "metadata": {
    "id": "QusTNnFu92Jx"
   },
   "source": [
    "## Understanding the Dataset"
   ]
  },
  {
   "cell_type": "code",
   "execution_count": 18,
   "id": "xTpEc-cd8-_l",
   "metadata": {
    "id": "xTpEc-cd8-_l"
   },
   "outputs": [
    {
     "data": {
      "text/plain": [
       "Shipment_ID                 object\n",
       "Farmer_Name                 object\n",
       "Product_Type                object\n",
       "Weight_kg                    int64\n",
       "Origin                      object\n",
       "Destination                 object\n",
       "Transport_Type              object\n",
       "Temp_Control                object\n",
       "Packaging_Type              object\n",
       "Traffic_Condition           object\n",
       "Season                      object\n",
       "Distance_km                  int64\n",
       "Estimated_Transit_Hours    float64\n",
       "Cost_PHP                     int64\n",
       "Notes                       object\n",
       "dtype: object"
      ]
     },
     "execution_count": 18,
     "metadata": {},
     "output_type": "execute_result"
    }
   ],
   "source": [
    "# Get Column Names and Data Types\n",
    "column_info = df.dtypes\n",
    "column_info"
   ]
  },
  {
   "cell_type": "code",
   "execution_count": 20,
   "id": "0TYP9kiM-E0W",
   "metadata": {
    "id": "0TYP9kiM-E0W"
   },
   "outputs": [],
   "source": [
    "# Identify Categorical and Numerical Features\n",
    "categorical_features = df.select_dtypes(include=['object']).columns\n",
    "numerical_features = df.select_dtypes(include=['int64', 'float']).columns"
   ]
  },
  {
   "cell_type": "code",
   "execution_count": 22,
   "id": "422cc4d7-966b-4ea8-b991-df4a21f8ac64",
   "metadata": {
    "id": "422cc4d7-966b-4ea8-b991-df4a21f8ac64"
   },
   "outputs": [
    {
     "name": "stdout",
     "output_type": "stream",
     "text": [
      "Unique Values for Categorical Features:\n",
      " - Shipment_ID: ['S001', 'S002', 'S003', 'S004', 'S005', 'S006', 'S007', 'S008', 'S009', 'S010', '...']\n",
      " - Farmer_Name: ['Ramon Santos', 'Linda Cruz', 'Benjie Reyes', 'Victor Flores', 'Carding Mendoza', 'Lito Bautista', 'Maria Navarro', 'Isagani Ramos', 'Pepe Gonzales', 'Pilar Villanueva', '...']\n",
      " - Product_Type: ['Kamatis', 'Mangga', 'Bangus', 'Bawang', 'Saging', 'Repolyo', 'Pineapple', 'Langka', 'Pandesal', 'Kalabasa', '...']\n",
      " - Origin: ['Benguet', 'Zambales', 'Dagupan City', 'Ilocos Norte', 'Davao City', 'Nueva Vizcaya', 'Bukidnon', 'Laguna', 'Pampanga', 'Tarlac', '...']\n",
      " - Destination: ['Metro Manila', 'Quezon City', 'Makati City', 'Pasig City', 'Cebu City', 'Caloocan City', 'Pasay City', 'Taguig City', 'Mandaluyong City', 'Manila', '...']\n",
      " - Transport_Type: None\n",
      " - Temp_Control: None\n",
      " - Packaging_Type: ['Ventilated Crates', 'Sturdy Cardboard Box', 'Insulated Coolers', 'Mesh Bags', 'Sturdy Crates', 'Cardboard + Wrapping', 'Cardboard Boxes', 'Moisture-Control Bags', 'Burlap Bags', 'Plastic Wrapping', '...']\n",
      " - Traffic_Condition: None\n",
      " - Season: None\n",
      " - Notes: ['Peak season for tomatoes', 'Harvested ripe, needs quick transport', 'Strict temperature control', 'Odor control needed', 'Ensure crates are tightly packed', 'Harvested early for freshness', 'Bumpy route expected, use extra padding', 'Transport immediately to avoid overripening', 'Ensure bags stay dry', 'Sensitive to moisture, use ventilated crates', '...']\n",
      "\n"
     ]
    }
   ],
   "source": [
    "# Get Unique Values for Categorical Features with Limitation\n",
    "def get_unique_values(col, max_display=10):\n",
    "    uniques = df[col].unique().tolist() # get unique values and turn them intro lists\n",
    "    if len(uniques) > max_display: # if there are more than 10 unique values\n",
    "        return uniques[:max_display] + [\"...\"]\n",
    "\n",
    "unique_values = {col: get_unique_values(col) for col in categorical_features}\n",
    "\n",
    "print(\"Unique Values for Categorical Features:\")\n",
    "for col, uniques in unique_values.items():\n",
    "    print(f\" - {col}: {uniques}\")\n",
    "print()"
   ]
  },
  {
   "cell_type": "code",
   "execution_count": 30,
   "id": "CbfloRag9Kup",
   "metadata": {
    "id": "CbfloRag9Kup"
   },
   "outputs": [
    {
     "name": "stdout",
     "output_type": "stream",
     "text": [
      "Descriptive Statistics for Numerical Features:\n",
      "         Weight_kg  Distance_km  Estimated_Transit_Hours     Cost_PHP\n",
      "count   20.000000    20.000000                20.000000    20.000000\n",
      "mean   163.750000   260.000000                 8.225000  3900.000000\n",
      "std     79.981495   202.796242                 5.838788  2625.382178\n",
      "min     20.000000    40.000000                 1.000000   900.000000\n",
      "25%    100.000000   107.500000                 3.375000  1900.000000\n",
      "50%    165.000000   180.000000                 6.500000  3300.000000\n",
      "75%    220.000000   387.500000                12.750000  5300.000000\n",
      "max    300.000000   620.000000                18.000000  9000.000000 \n",
      "\n"
     ]
    }
   ],
   "source": [
    "# Get Descriptive Statistics for Numerical Features\n",
    "numerical_stats = df[numerical_features].describe()\n",
    "print(\"Descriptive Statistics for Numerical Features:\\n\", numerical_stats, \"\\n\")\n"
   ]
  },
  {
   "cell_type": "markdown",
   "id": "7J1vcAcp-LO_",
   "metadata": {
    "id": "7J1vcAcp-LO_"
   },
   "source": [
    "## Generating the Template"
   ]
  },
  {
   "cell_type": "code",
   "execution_count": 36,
   "id": "eddf122d-9766-408c-88df-b84ef9a649cf",
   "metadata": {
    "id": "eddf122d-9766-408c-88df-b84ef9a649cf"
   },
   "outputs": [],
   "source": [
    "def generate_template(df, \n",
    "                      column_info, \n",
    "                      categorical_features, \n",
    "                      numerical_features, \n",
    "                      unique_values, \n",
    "                      numerical_stats):\n",
    "\n",
    "    # Construct a summary of the dataframe's structure\n",
    "    column_summary = \"Column Names and Data Types:\\n\"\n",
    "    for col, dtype in column_info.items():\n",
    "        column_summary += f\" - {col}: {dtype}\\n\"\n",
    "\n",
    "\n",
    "    # Unique values for categorical features\n",
    "    unique_values_str = \"Unique Values for Categorical Features:\\n\"\n",
    "    for col, uniques in unique_values.items():\n",
    "        unique_values_str += f\" - {col}: {uniques}\\n\"\n",
    "\n",
    "\n",
    "    # Descriptive statistics for numerical features\n",
    "    numerical_stats_str = \"Descriptive Statistics for Numerical Features:\\n\"\n",
    "    for col in numerical_features:\n",
    "        numerical_stats_str += f\" - {col}:\\n\"\n",
    "        for stat_name, value in numerical_stats[col].items():\n",
    "            numerical_stats_str + f\" - {stat_name}: {value}\\n\"\n",
    "\n",
    "\n",
    "    # Define the system prompt\n",
    "    system_prompt = \"\"\"You are an intelligent assistant that creates descriptive templates for transforming dataframe rows into coherent paragraphs. \n",
    "    Analyze the provided dataframe structure and generate a template sentence that includes placeholders for each column. \n",
    "    Ensure the template is contextually relevant and maintains grammatical correctness.\"\"\"\n",
    "\n",
    "\n",
    "\n",
    "    # Define the user prompt\n",
    "    user_prompt = f\"\"\"\n",
    "    Analyze the following dataframe structure and create a descriptive template with placeholders for each column.\n",
    "\n",
    "    <column_summary>\n",
    "    {column_summary}\n",
    "    </column_summary>\n",
    "\n",
    "    <unique_values>\n",
    "    {unique_values_str}\n",
    "    </unique_values>\n",
    "\n",
    "    <numerical_stats>\n",
    "    {numerical_stats_str}\n",
    "    </numerical_stats>\n",
    "\n",
    "    Use the exact column names from the column_summary in generating the variable names in the template,\n",
    "    as they will be populated with the actual values in the dataset.\n",
    "\n",
    "    Example Template about a Spotify dataset:\n",
    "    \"{{artist}} gained {{streams}} streams in the song '{{song}}' that was a hit in {{date}}.\"\n",
    "\n",
    "    \n",
    "    Output only the template without any explanation or introduction.\n",
    "    The template's variables will be dynamically replaced so make sure they're formatted properly.\"\"\"\n",
    "\n",
    "\n",
    "    # Generate the template (with retries)\n",
    "    retries = 3\n",
    "    for attempt in range(retries):\n",
    "        try:\n",
    "            response = openai.ChatCompletion.create(\n",
    "                model=\"gpt-4o-mini\",\n",
    "                temperature=0.3,\n",
    "                max_tokens=1024,\n",
    "                messages=[\n",
    "                    {\"role\": \"system\", \"content\": system_prompt},\n",
    "                    {\"role\": \"user\", \"content\": user_prompt}\n",
    "                ]\n",
    "            )\n",
    "            template = response['choices'][0]['message']['content'].strip()\n",
    "            return template\n",
    "        except Exception as e:\n",
    "            print(f\"Error generating template (Attempt {attempt + 1}/{retries}): {e}\") # e is error log\n",
    "            time.sleep(2)  # Wait before retrying\n",
    "\n",
    "    return None\n"
   ]
  },
  {
   "cell_type": "code",
   "execution_count": 38,
   "id": "f8a0fd91-80de-4e08-8f86-44325a8accd3",
   "metadata": {
    "id": "f8a0fd91-80de-4e08-8f86-44325a8accd3"
   },
   "outputs": [
    {
     "name": "stdout",
     "output_type": "stream",
     "text": [
      "\"In shipment {Shipment_ID}, farmer {Farmer_Name} transported {Weight_kg} kg of {Product_Type} from {Origin} to {Destination} using {Transport_Type}. The product was packaged in {Packaging_Type} and required {Temp_Control} during transit. Given the {Traffic_Condition} conditions, the estimated distance of {Distance_km} km would take approximately {Estimated_Transit_Hours} hours to reach its destination at a cost of {Cost_PHP} PHP. Additional notes include: {Notes}.\"\n"
     ]
    }
   ],
   "source": [
    "# Generate the template\n",
    "template = generate_template(df, \n",
    "                             column_info, \n",
    "                             categorical_features, \n",
    "                             numerical_features, \n",
    "                             unique_values, \n",
    "                             numerical_stats)\n",
    "\n",
    "print(template)"
   ]
  },
  {
   "cell_type": "markdown",
   "id": "VWPq3mcY-r40",
   "metadata": {
    "id": "VWPq3mcY-r40"
   },
   "source": [
    "## Populating the Template with Actual Values"
   ]
  },
  {
   "cell_type": "code",
   "execution_count": 44,
   "id": "258e73ea-3500-49bb-9820-20637375dd55",
   "metadata": {
    "id": "258e73ea-3500-49bb-9820-20637375dd55"
   },
   "outputs": [],
   "source": [
    "def populate_template(template, row):\n",
    "\n",
    "    # Convert row to dictionary and replace NaN with 'N/A' ---transform every row into dictionary\n",
    "    row_dict = row.to_dict()\n",
    "    for key, value in row_dict.items():\n",
    "        if pd.isna(value):\n",
    "            row_dict[key] = 'N/A'\n",
    "\n",
    "    # Generate the populated template per row \n",
    "    paragraph = template.format(**row_dict)\n",
    "\n",
    "    return paragraph"
   ]
  },
  {
   "cell_type": "code",
   "execution_count": 46,
   "id": "rIhyXGSD_Ke4",
   "metadata": {
    "id": "rIhyXGSD_Ke4"
   },
   "outputs": [],
   "source": [
    "# Apply the populate_template function to each row in the dataframe\n",
    "df['paragraph'] = df.apply(lambda row: populate_template(template, row), axis=1)\n"
   ]
  },
  {
   "cell_type": "code",
   "execution_count": 48,
   "id": "b8dec817-e82e-4268-b3a9-cfbed81247ae",
   "metadata": {
    "scrolled": true
   },
   "outputs": [
    {
     "data": {
      "text/plain": [
       "'\"In shipment S001, farmer Ramon Santos transported 150 kg of Kamatis from Benguet to Metro Manila using Refrigerated Truck. The product was packaged in Ventilated Crates and required Yes during transit. Given the Heavy conditions, the estimated distance of 250 km would take approximately 10.0 hours to reach its destination at a cost of 3500 PHP. Additional notes include: Peak season for tomatoes.\"'"
      ]
     },
     "execution_count": 48,
     "metadata": {},
     "output_type": "execute_result"
    }
   ],
   "source": [
    "df['paragraph'][0]"
   ]
  },
  {
   "cell_type": "code",
   "execution_count": 50,
   "id": "45c5ae70-8115-46d5-9c36-17e5ba46525c",
   "metadata": {},
   "outputs": [
    {
     "data": {
      "text/html": [
       "<div>\n",
       "<style scoped>\n",
       "    .dataframe tbody tr th:only-of-type {\n",
       "        vertical-align: middle;\n",
       "    }\n",
       "\n",
       "    .dataframe tbody tr th {\n",
       "        vertical-align: top;\n",
       "    }\n",
       "\n",
       "    .dataframe thead th {\n",
       "        text-align: right;\n",
       "    }\n",
       "</style>\n",
       "<table border=\"1\" class=\"dataframe\">\n",
       "  <thead>\n",
       "    <tr style=\"text-align: right;\">\n",
       "      <th></th>\n",
       "      <th>Shipment_ID</th>\n",
       "      <th>Farmer_Name</th>\n",
       "      <th>Product_Type</th>\n",
       "      <th>Weight_kg</th>\n",
       "      <th>Origin</th>\n",
       "      <th>Destination</th>\n",
       "      <th>Transport_Type</th>\n",
       "      <th>Temp_Control</th>\n",
       "      <th>Packaging_Type</th>\n",
       "      <th>Traffic_Condition</th>\n",
       "      <th>Season</th>\n",
       "      <th>Distance_km</th>\n",
       "      <th>Estimated_Transit_Hours</th>\n",
       "      <th>Cost_PHP</th>\n",
       "      <th>Notes</th>\n",
       "      <th>paragraph</th>\n",
       "    </tr>\n",
       "  </thead>\n",
       "  <tbody>\n",
       "    <tr>\n",
       "      <th>12</th>\n",
       "      <td>S013</td>\n",
       "      <td>Tony Castillo</td>\n",
       "      <td>Talong</td>\n",
       "      <td>180</td>\n",
       "      <td>Cavite</td>\n",
       "      <td>Quezon City</td>\n",
       "      <td>Refrigerated Truck</td>\n",
       "      <td>Yes</td>\n",
       "      <td>Plastic Wrapping</td>\n",
       "      <td>Heavy</td>\n",
       "      <td>Wet Season</td>\n",
       "      <td>40</td>\n",
       "      <td>1.0</td>\n",
       "      <td>1600</td>\n",
       "      <td>Harvested recently, handle gently</td>\n",
       "      <td>\"In shipment S013, farmer Tony Castillo transp...</td>\n",
       "    </tr>\n",
       "    <tr>\n",
       "      <th>2</th>\n",
       "      <td>S003</td>\n",
       "      <td>Benjie Reyes</td>\n",
       "      <td>Bangus</td>\n",
       "      <td>300</td>\n",
       "      <td>Dagupan City</td>\n",
       "      <td>Makati City</td>\n",
       "      <td>Refrigerated Van</td>\n",
       "      <td>Yes</td>\n",
       "      <td>Insulated Coolers</td>\n",
       "      <td>Light</td>\n",
       "      <td>Hot/Dry</td>\n",
       "      <td>210</td>\n",
       "      <td>8.0</td>\n",
       "      <td>4800</td>\n",
       "      <td>Strict temperature control</td>\n",
       "      <td>\"In shipment S003, farmer Benjie Reyes transpo...</td>\n",
       "    </tr>\n",
       "    <tr>\n",
       "      <th>8</th>\n",
       "      <td>S009</td>\n",
       "      <td>Pepe Gonzales</td>\n",
       "      <td>Pandesal</td>\n",
       "      <td>50</td>\n",
       "      <td>Pampanga</td>\n",
       "      <td>Makati City</td>\n",
       "      <td>Non-Refrigerated</td>\n",
       "      <td>No</td>\n",
       "      <td>Moisture-Control Bags</td>\n",
       "      <td>Light</td>\n",
       "      <td>Hot</td>\n",
       "      <td>90</td>\n",
       "      <td>2.0</td>\n",
       "      <td>1200</td>\n",
       "      <td>Ensure bags stay dry</td>\n",
       "      <td>\"In shipment S009, farmer Pepe Gonzales transp...</td>\n",
       "    </tr>\n",
       "    <tr>\n",
       "      <th>16</th>\n",
       "      <td>S017</td>\n",
       "      <td>Juanito de la Cruz</td>\n",
       "      <td>Mais</td>\n",
       "      <td>220</td>\n",
       "      <td>Quezon Province</td>\n",
       "      <td>Manila</td>\n",
       "      <td>Open Air Truck</td>\n",
       "      <td>No</td>\n",
       "      <td>Burlap Bags</td>\n",
       "      <td>Moderate</td>\n",
       "      <td>Humid</td>\n",
       "      <td>130</td>\n",
       "      <td>4.5</td>\n",
       "      <td>2800</td>\n",
       "      <td>Needs breathable packaging, frequent airing</td>\n",
       "      <td>\"In shipment S017, farmer Juanito de la Cruz t...</td>\n",
       "    </tr>\n",
       "    <tr>\n",
       "      <th>7</th>\n",
       "      <td>S008</td>\n",
       "      <td>Isagani Ramos</td>\n",
       "      <td>Langka</td>\n",
       "      <td>100</td>\n",
       "      <td>Laguna</td>\n",
       "      <td>Pasay City</td>\n",
       "      <td>Non-Refrigerated</td>\n",
       "      <td>No</td>\n",
       "      <td>Cardboard Boxes</td>\n",
       "      <td>Heavy</td>\n",
       "      <td>Dry</td>\n",
       "      <td>80</td>\n",
       "      <td>3.0</td>\n",
       "      <td>1500</td>\n",
       "      <td>Transport immediately to avoid overripening</td>\n",
       "      <td>\"In shipment S008, farmer Isagani Ramos transp...</td>\n",
       "    </tr>\n",
       "  </tbody>\n",
       "</table>\n",
       "</div>"
      ],
      "text/plain": [
       "   Shipment_ID         Farmer_Name Product_Type  Weight_kg           Origin  \\\n",
       "12        S013       Tony Castillo       Talong        180           Cavite   \n",
       "2         S003        Benjie Reyes       Bangus        300     Dagupan City   \n",
       "8         S009       Pepe Gonzales     Pandesal         50         Pampanga   \n",
       "16        S017  Juanito de la Cruz         Mais        220  Quezon Province   \n",
       "7         S008       Isagani Ramos       Langka        100           Laguna   \n",
       "\n",
       "    Destination      Transport_Type Temp_Control         Packaging_Type  \\\n",
       "12  Quezon City  Refrigerated Truck          Yes       Plastic Wrapping   \n",
       "2   Makati City    Refrigerated Van          Yes      Insulated Coolers   \n",
       "8   Makati City    Non-Refrigerated           No  Moisture-Control Bags   \n",
       "16       Manila      Open Air Truck           No            Burlap Bags   \n",
       "7    Pasay City    Non-Refrigerated           No        Cardboard Boxes   \n",
       "\n",
       "   Traffic_Condition      Season  Distance_km  Estimated_Transit_Hours  \\\n",
       "12             Heavy  Wet Season           40                      1.0   \n",
       "2              Light     Hot/Dry          210                      8.0   \n",
       "8              Light         Hot           90                      2.0   \n",
       "16          Moderate       Humid          130                      4.5   \n",
       "7              Heavy         Dry           80                      3.0   \n",
       "\n",
       "    Cost_PHP                                        Notes  \\\n",
       "12      1600            Harvested recently, handle gently   \n",
       "2       4800                   Strict temperature control   \n",
       "8       1200                         Ensure bags stay dry   \n",
       "16      2800  Needs breathable packaging, frequent airing   \n",
       "7       1500  Transport immediately to avoid overripening   \n",
       "\n",
       "                                            paragraph  \n",
       "12  \"In shipment S013, farmer Tony Castillo transp...  \n",
       "2   \"In shipment S003, farmer Benjie Reyes transpo...  \n",
       "8   \"In shipment S009, farmer Pepe Gonzales transp...  \n",
       "16  \"In shipment S017, farmer Juanito de la Cruz t...  \n",
       "7   \"In shipment S008, farmer Isagani Ramos transp...  "
      ]
     },
     "execution_count": 50,
     "metadata": {},
     "output_type": "execute_result"
    }
   ],
   "source": [
    "df.sample(5)"
   ]
  },
  {
   "cell_type": "markdown",
   "id": "bDO2V_0P_So1",
   "metadata": {
    "id": "bDO2V_0P_So1"
   },
   "source": [
    "## Saving the Populated Templates (Natural Language Texts)"
   ]
  },
  {
   "cell_type": "code",
   "execution_count": 64,
   "id": "0b26a4d3-b3d9-448b-ae5e-f2c8960718cd",
   "metadata": {
    "id": "0b26a4d3-b3d9-448b-ae5e-f2c8960718cd"
   },
   "outputs": [],
   "source": [
    "def save_content_to_txt(paragraphs, txt_filename):\n",
    "    try:\n",
    "        with open(txt_filename, 'w', encoding='utf-8') as file:\n",
    "            \n",
    "            for para in paragraphs:\n",
    "                file.write(para + '\\n\\n')  # Double newline for separation\n",
    "        \n",
    "        print(f\"All content has been saved as '{txt_filename}'.\\n\")\n",
    "    except Exception as e:\n",
    "        print(f\"Error saving content to text file: {e}\")\n"
   ]
  },
  {
   "cell_type": "code",
   "execution_count": 66,
   "id": "cb501277-4548-4f79-8b1e-fedafcff856f",
   "metadata": {
    "id": "cb501277-4548-4f79-8b1e-fedafcff856f"
   },
   "outputs": [],
   "source": [
    "def save_content_to_pdf(paragraphs, pdf_filename):\n",
    "    try:\n",
    "        pdf = FPDF()\n",
    "        pdf.add_page()\n",
    "        pdf.set_auto_page_break(auto=True, margin=15)\n",
    "        pdf.set_font(\"Arial\", size=12)\n",
    "        \n",
    "        # Add each paragraph\n",
    "        for para in paragraphs:\n",
    "            pdf.multi_cell(0, 10, para)\n",
    "            pdf.ln()  # Add a line break between paragraphs\n",
    "        \n",
    "        pdf.output(pdf_filename)\n",
    "        print(f\"All content has been saved as '{pdf_filename}'.\\n\")\n",
    "    except Exception as e:\n",
    "        print(f\"Error saving content to PDF: {e}\")"
   ]
  },
  {
   "cell_type": "code",
   "execution_count": 68,
   "id": "9ee0ce02-95de-4634-bdb3-63e285b9031a",
   "metadata": {
    "id": "9ee0ce02-95de-4634-bdb3-63e285b9031a"
   },
   "outputs": [
    {
     "name": "stdout",
     "output_type": "stream",
     "text": [
      "All content has been saved as 'nlg.txt'.\n",
      "\n",
      "All content has been saved as 'nlg.pdf'.\n",
      "\n"
     ]
    }
   ],
   "source": [
    "# Save the paragraphs to both text and PDF files\n",
    "save_content_to_txt(df['paragraph'].to_list(),\n",
    "                    txt_filename ='nlg.txt')\n",
    "save_content_to_pdf(df['paragraph'].to_list(),\n",
    "                   pdf_filename= 'nlg.pdf')\n"
   ]
  },
  {
   "cell_type": "code",
   "execution_count": null,
   "id": "98d36d35-57eb-4096-8cbe-836de6fe0e79",
   "metadata": {},
   "outputs": [],
   "source": []
  },
  {
   "cell_type": "code",
   "execution_count": null,
   "id": "a8866d6a-9489-4731-b076-0b5797cde2fd",
   "metadata": {},
   "outputs": [],
   "source": []
  }
 ],
 "metadata": {
  "colab": {
   "provenance": []
  },
  "kernelspec": {
   "display_name": "Python 3 (ipykernel)",
   "language": "python",
   "name": "python3"
  },
  "language_info": {
   "codemirror_mode": {
    "name": "ipython",
    "version": 3
   },
   "file_extension": ".py",
   "mimetype": "text/x-python",
   "name": "python",
   "nbconvert_exporter": "python",
   "pygments_lexer": "ipython3",
   "version": "3.12.4"
  }
 },
 "nbformat": 4,
 "nbformat_minor": 5
}
